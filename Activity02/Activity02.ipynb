{
 "cells": [
  {
   "cell_type": "code",
   "execution_count": 1,
   "metadata": {},
   "outputs": [],
   "source": [
    "#steps required from exercise3.04\n",
    "import pandas as pd\n",
    "file_url = 'https://raw.githubusercontent.com/PacktWorkshops/The-Applied-Artificial-Intelligence-Workshop/master/Datasets/german_prepared.csv'\n",
    "df = pd.read_csv(file_url)\n",
    "from sklearn import preprocessing\n",
    "scaler = preprocessing.MinMaxScaler(feature_range=(0,1))\n",
    "scaled_credit = scaler.fit_transform(df)\n",
    "label = scaled_credit[:, 0]\n",
    "features = scaled_credit[:, 1:]\n",
    "from sklearn.model_selection import train_test_split\n",
    "features_train, features_test, label_train, label_test = train_test_split(features, label, test_size=0.2, random_state=7)"
   ]
  },
  {
   "cell_type": "code",
   "execution_count": 2,
   "metadata": {},
   "outputs": [],
   "source": [
    "from sklearn import svm"
   ]
  },
  {
   "cell_type": "code",
   "execution_count": 3,
   "metadata": {},
   "outputs": [],
   "source": [
    "def fit_svm(features_train, label_train, features_test, label_test, kernel=\"linear\", C=1, degree=3, gamma='scale'):\n",
    "    classifier = svm.SVC(kernel=kernel, C=C, degree=degree, gamma=gamma)\n",
    "    classifier.fit(features_train, label_train)\n",
    "    return classifier.score(features_train, label_train), classifier.score(features_test, label_test)"
   ]
  },
  {
   "cell_type": "code",
   "execution_count": 4,
   "metadata": {
    "scrolled": true
   },
   "outputs": [
    {
     "data": {
      "text/plain": [
       "(0.71625, 0.75)"
      ]
     },
     "execution_count": 4,
     "metadata": {},
     "output_type": "execute_result"
    }
   ],
   "source": [
    "acc_train_1, acc_test_1 = fit_svm(features_train, label_train, features_test, label_test)\n",
    "acc_train_1, acc_test_1"
   ]
  },
  {
   "cell_type": "code",
   "execution_count": 5,
   "metadata": {
    "scrolled": true
   },
   "outputs": [
    {
     "data": {
      "text/plain": [
       "(0.68875, 0.745)"
      ]
     },
     "execution_count": 5,
     "metadata": {},
     "output_type": "execute_result"
    }
   ],
   "source": [
    "kernel=\"poly\"\n",
    "C=1\n",
    "degree=4\n",
    "gamma=0.05\n",
    "acc_train_2, acc_test_2 = fit_svm(features_train, label_train, features_test, label_test, kernel=kernel, C=C, degree=degree, gamma=gamma)\n",
    "acc_train_2, acc_test_2"
   ]
  },
  {
   "cell_type": "code",
   "execution_count": 6,
   "metadata": {},
   "outputs": [
    {
     "data": {
      "text/plain": [
       "(0.68875, 0.745)"
      ]
     },
     "execution_count": 6,
     "metadata": {},
     "output_type": "execute_result"
    }
   ],
   "source": [
    "kernel=\"poly\"\n",
    "C=2\n",
    "degree=4\n",
    "gamma=0.05\n",
    "acc_train_3, acc_test_3 = fit_svm(features_train, label_train, features_test, label_test, kernel=kernel, C=C, degree=degree, gamma=gamma)\n",
    "acc_train_3, acc_test_3"
   ]
  },
  {
   "cell_type": "code",
   "execution_count": 7,
   "metadata": {},
   "outputs": [
    {
     "data": {
      "text/plain": [
       "(0.84625, 0.775)"
      ]
     },
     "execution_count": 7,
     "metadata": {},
     "output_type": "execute_result"
    }
   ],
   "source": [
    "kernel=\"poly\"\n",
    "C=1\n",
    "degree=4\n",
    "gamma=0.25\n",
    "acc_train_4, acc_test_4 = fit_svm(features_train, label_train, features_test, label_test, kernel=kernel, C=C, degree=degree, gamma=gamma)\n",
    "acc_train_4, acc_test_4"
   ]
  },
  {
   "cell_type": "code",
   "execution_count": 8,
   "metadata": {},
   "outputs": [
    {
     "data": {
      "text/plain": [
       "(0.9575, 0.73)"
      ]
     },
     "execution_count": 8,
     "metadata": {},
     "output_type": "execute_result"
    }
   ],
   "source": [
    "kernel=\"poly\"\n",
    "C=1\n",
    "degree=4\n",
    "gamma=0.5\n",
    "acc_train_5, acc_test_5 = fit_svm(features_train, label_train, features_test, label_test, kernel=kernel, C=C, degree=degree, gamma=gamma)\n",
    "acc_train_5, acc_test_5"
   ]
  },
  {
   "cell_type": "code",
   "execution_count": 9,
   "metadata": {},
   "outputs": [
    {
     "data": {
      "text/plain": [
       "(0.76375, 0.785)"
      ]
     },
     "execution_count": 9,
     "metadata": {},
     "output_type": "execute_result"
    }
   ],
   "source": [
    "kernel=\"poly\"\n",
    "C=1\n",
    "degree=4\n",
    "gamma=0.16\n",
    "acc_train_6, acc_test_6 = fit_svm(features_train, label_train, features_test, label_test, kernel=kernel, C=C, degree=degree, gamma=gamma)\n",
    "acc_train_6, acc_test_6"
   ]
  },
  {
   "cell_type": "code",
   "execution_count": 10,
   "metadata": {},
   "outputs": [
    {
     "data": {
      "text/plain": [
       "(0.635, 0.66)"
      ]
     },
     "execution_count": 10,
     "metadata": {},
     "output_type": "execute_result"
    }
   ],
   "source": [
    "kernel=\"sigmoid\"\n",
    "acc_train_7, acc_test_7 = fit_svm(features_train, label_train, features_test, label_test, kernel=kernel)\n",
    "acc_train_7, acc_test_7"
   ]
  },
  {
   "cell_type": "code",
   "execution_count": 11,
   "metadata": {},
   "outputs": [
    {
     "data": {
      "text/plain": [
       "(0.7175, 0.765)"
      ]
     },
     "execution_count": 11,
     "metadata": {},
     "output_type": "execute_result"
    }
   ],
   "source": [
    "kernel=\"rbf\"\n",
    "gamma=0.15\n",
    "acc_train_8, acc_test_8 = fit_svm(features_train, label_train, features_test, label_test, kernel=kernel, gamma=gamma)\n",
    "acc_train_8, acc_test_8"
   ]
  },
  {
   "cell_type": "code",
   "execution_count": 12,
   "metadata": {
    "scrolled": true
   },
   "outputs": [
    {
     "data": {
      "text/plain": [
       "(0.74, 0.765)"
      ]
     },
     "execution_count": 12,
     "metadata": {},
     "output_type": "execute_result"
    }
   ],
   "source": [
    "kernel=\"rbf\"\n",
    "gamma=0.25\n",
    "acc_train_9, acc_test_9 = fit_svm(features_train, label_train, features_test, label_test, kernel=kernel, gamma=gamma)\n",
    "acc_train_9, acc_test_9"
   ]
  },
  {
   "cell_type": "code",
   "execution_count": 13,
   "metadata": {},
   "outputs": [
    {
     "data": {
      "text/plain": [
       "(0.78125, 0.775)"
      ]
     },
     "execution_count": 13,
     "metadata": {},
     "output_type": "execute_result"
    }
   ],
   "source": [
    "kernel=\"rbf\"\n",
    "gamma=0.35\n",
    "acc_train_10, acc_test_10 = fit_svm(features_train, label_train, features_test, label_test, kernel=kernel, gamma=gamma)\n",
    "acc_train_10, acc_test_10"
   ]
  }
 ],
 "metadata": {
  "kernelspec": {
   "display_name": "Python 3",
   "language": "python",
   "name": "python3"
  },
  "language_info": {
   "codemirror_mode": {
    "name": "ipython",
    "version": 3
   },
   "file_extension": ".py",
   "mimetype": "text/x-python",
   "name": "python",
   "nbconvert_exporter": "python",
   "pygments_lexer": "ipython3",
   "version": "3.7.5"
  }
 },
 "nbformat": 4,
 "nbformat_minor": 4
}
