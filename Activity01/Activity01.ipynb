{
 "cells": [
  {
   "cell_type": "code",
   "execution_count": 1,
   "metadata": {},
   "outputs": [],
   "source": [
    "#steps required from exercise3.04\n",
    "import pandas as pd\n",
    "file_url = 'https://raw.githubusercontent.com/PacktWorkshops/The-Applied-Artificial-Intelligence-Workshop/master/Datasets/german_prepared.csv'\n",
    "df = pd.read_csv(file_url)\n",
    "from sklearn import preprocessing\n",
    "scaler = preprocessing.MinMaxScaler(feature_range=(0,1))\n",
    "scaled_credit = scaler.fit_transform(df)\n",
    "label = scaled_credit[:, 0]\n",
    "features = scaled_credit[:, 1:]\n",
    "from sklearn.model_selection import train_test_split\n",
    "features_train, features_test, label_train, label_test = train_test_split(features, label, test_size=0.2, random_state=7)"
   ]
  },
  {
   "cell_type": "code",
   "execution_count": 2,
   "metadata": {},
   "outputs": [],
   "source": [
    "from sklearn import neighbors"
   ]
  },
  {
   "cell_type": "code",
   "execution_count": 3,
   "metadata": {},
   "outputs": [],
   "source": [
    "def fit_knn(k, p, features_train, label_train, features_test, label_test):\n",
    "    classifier = neighbors.KNeighborsClassifier(n_neighbors=k, p=p)\n",
    "    classifier.fit(features_train, label_train)\n",
    "    return classifier.score(features_train, label_train), classifier.score(features_test, label_test)"
   ]
  },
  {
   "cell_type": "code",
   "execution_count": 4,
   "metadata": {},
   "outputs": [
    {
     "data": {
      "text/plain": [
       "(0.78625, 0.75)"
      ]
     },
     "execution_count": 4,
     "metadata": {},
     "output_type": "execute_result"
    }
   ],
   "source": [
    "acc_train_1, acc_test_1 = fit_knn(5, 2, features_train, label_train, features_test, label_test)\n",
    "acc_train_1, acc_test_1"
   ]
  },
  {
   "cell_type": "code",
   "execution_count": 5,
   "metadata": {},
   "outputs": [
    {
     "data": {
      "text/plain": [
       "(0.775, 0.785)"
      ]
     },
     "execution_count": 5,
     "metadata": {},
     "output_type": "execute_result"
    }
   ],
   "source": [
    "acc_train_2, acc_test_2 = fit_knn(10, 2, features_train, label_train, features_test, label_test)\n",
    "acc_train_2, acc_test_2"
   ]
  },
  {
   "cell_type": "code",
   "execution_count": 6,
   "metadata": {},
   "outputs": [
    {
     "data": {
      "text/plain": [
       "(0.76625, 0.79)"
      ]
     },
     "execution_count": 6,
     "metadata": {},
     "output_type": "execute_result"
    }
   ],
   "source": [
    "acc_train_3, acc_test_3 = fit_knn(15, 2, features_train, label_train, features_test, label_test)\n",
    "acc_train_3, acc_test_3"
   ]
  },
  {
   "cell_type": "code",
   "execution_count": 7,
   "metadata": {},
   "outputs": [
    {
     "data": {
      "text/plain": [
       "(0.7375, 0.77)"
      ]
     },
     "execution_count": 7,
     "metadata": {},
     "output_type": "execute_result"
    }
   ],
   "source": [
    "acc_train_4, acc_test_4 = fit_knn(25, 2, features_train, label_train, features_test, label_test)\n",
    "acc_train_4, acc_test_4"
   ]
  },
  {
   "cell_type": "code",
   "execution_count": 8,
   "metadata": {},
   "outputs": [
    {
     "data": {
      "text/plain": [
       "(0.70625, 0.775)"
      ]
     },
     "execution_count": 8,
     "metadata": {},
     "output_type": "execute_result"
    }
   ],
   "source": [
    "acc_train_5, acc_test_5 = fit_knn(50, 2, features_train, label_train, features_test, label_test)\n",
    "acc_train_5, acc_test_5"
   ]
  },
  {
   "cell_type": "code",
   "execution_count": 9,
   "metadata": {},
   "outputs": [
    {
     "data": {
      "text/plain": [
       "(0.8, 0.735)"
      ]
     },
     "execution_count": 9,
     "metadata": {},
     "output_type": "execute_result"
    }
   ],
   "source": [
    "acc_train_6, acc_test_6 = fit_knn(5, 1, features_train, label_train, features_test, label_test)\n",
    "acc_train_6, acc_test_6"
   ]
  },
  {
   "cell_type": "code",
   "execution_count": 10,
   "metadata": {},
   "outputs": [
    {
     "data": {
      "text/plain": [
       "(0.77, 0.785)"
      ]
     },
     "execution_count": 10,
     "metadata": {},
     "output_type": "execute_result"
    }
   ],
   "source": [
    "acc_train_7, acc_test_7 = fit_knn(10, 1, features_train, label_train, features_test, label_test)\n",
    "acc_train_7, acc_test_7"
   ]
  },
  {
   "cell_type": "code",
   "execution_count": 11,
   "metadata": {},
   "outputs": [
    {
     "data": {
      "text/plain": [
       "(0.7575, 0.775)"
      ]
     },
     "execution_count": 11,
     "metadata": {},
     "output_type": "execute_result"
    }
   ],
   "source": [
    "acc_train_8, acc_test_8 = fit_knn(15, 1, features_train, label_train, features_test, label_test)\n",
    "acc_train_8, acc_test_8"
   ]
  },
  {
   "cell_type": "code",
   "execution_count": 12,
   "metadata": {},
   "outputs": [
    {
     "data": {
      "text/plain": [
       "(0.745, 0.8)"
      ]
     },
     "execution_count": 12,
     "metadata": {},
     "output_type": "execute_result"
    }
   ],
   "source": [
    "acc_train_9, acc_test_9 = fit_knn(25, 1, features_train, label_train, features_test, label_test)\n",
    "acc_train_9, acc_test_9"
   ]
  },
  {
   "cell_type": "code",
   "execution_count": 13,
   "metadata": {},
   "outputs": [
    {
     "data": {
      "text/plain": [
       "(0.70875, 0.78)"
      ]
     },
     "execution_count": 13,
     "metadata": {},
     "output_type": "execute_result"
    }
   ],
   "source": [
    "acc_train_10, acc_test_10 = fit_knn(50, 1, features_train, label_train, features_test, label_test)\n",
    "acc_train_10, acc_test_10"
   ]
  }
 ],
 "metadata": {
  "kernelspec": {
   "display_name": "Python 3",
   "language": "python",
   "name": "python3"
  },
  "language_info": {
   "codemirror_mode": {
    "name": "ipython",
    "version": 3
   },
   "file_extension": ".py",
   "mimetype": "text/x-python",
   "name": "python",
   "nbconvert_exporter": "python",
   "pygments_lexer": "ipython3",
   "version": "3.7.5"
  }
 },
 "nbformat": 4,
 "nbformat_minor": 4
}
